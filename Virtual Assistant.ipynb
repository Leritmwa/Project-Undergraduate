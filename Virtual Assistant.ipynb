{
 "cells": [
  {
   "cell_type": "code",
   "execution_count": 1,
   "metadata": {},
   "outputs": [],
   "source": [
    "import speech_recognition as sr\n",
    "import pyttsx3\n",
    "import webbrowser\n",
    "import pyaudio\n",
    "import wikipedia\n",
    "import datetime\n",
    "import os\n",
    "import time\n",
    "import json\n",
    "import requests\n",
    "import wolframalpha"
   ]
  },
  {
   "cell_type": "code",
   "execution_count": 2,
   "metadata": {},
   "outputs": [],
   "source": [
    "#setting up the speech engine\n",
    "import pyttsx3\n",
    "engine = pyttsx3.init()\n",
    "voices = engine.getProperty('voices')\n",
    "engine.setProperty('voice', voices[1].id)"
   ]
  },
  {
   "cell_type": "code",
   "execution_count": 3,
   "metadata": {},
   "outputs": [],
   "source": [
    "#for the sound output\n",
    "def response(audio):\n",
    "    print(audio)\n",
    "    engine.say(audio)\n",
    "    engine.runAndWait()"
   ]
  },
  {
   "cell_type": "code",
   "execution_count": 4,
   "metadata": {},
   "outputs": [
    {
     "name": "stdout",
     "output_type": "stream",
     "text": [
      "Hello world\n"
     ]
    }
   ],
   "source": [
    "response(\"Hello world\")"
   ]
  },
  {
   "cell_type": "code",
   "execution_count": 5,
   "metadata": {},
   "outputs": [],
   "source": [
    "#for the machine to recognize words\n",
    "def audioCommand():\n",
    "    #creating the recognizer object\n",
    "    r= sr.Recognizer() \n",
    "    with sr.Microphone() as source:\n",
    "        print(\"Listening...\")\n",
    "        sound = r.listen(source)\n",
    "        \n",
    "        statement =\"\"\n",
    "        try:\n",
    "            statement = r.recognize_google(sound)\n",
    "            response(statement)\n",
    "            print(statement)\n",
    "        except sr.UnknownValueError:\n",
    "            print(\"Please say that again\")\n",
    "    return statement"
   ]
  },
  {
   "cell_type": "code",
   "execution_count": null,
   "metadata": {},
   "outputs": [],
   "source": [
    "#Wake word...\n",
    "def wakeWord(text):\n",
    "    WAKE_WORD = [\"Hey Aries\"]\n",
    "    \n",
    "    text = text.lower()\n",
    "    \n",
    "    for phrase in WAKE_WORD:\n",
    "        if phrase in text:\n",
    "            return True\n",
    "        return False"
   ]
  },
  {
   "cell_type": "code",
   "execution_count": 7,
   "metadata": {},
   "outputs": [
    {
     "name": "stdout",
     "output_type": "stream",
     "text": [
      "Listening...\n",
      "ok\n",
      "ok\n"
     ]
    },
    {
     "data": {
      "text/plain": [
       "'ok'"
      ]
     },
     "execution_count": 7,
     "metadata": {},
     "output_type": "execute_result"
    }
   ],
   "source": [
    "audioCommand()"
   ]
  },
  {
   "cell_type": "code",
   "execution_count": 1,
   "metadata": {},
   "outputs": [
    {
     "ename": "SyntaxError",
     "evalue": "invalid syntax (<ipython-input-1-d2ed3e0c63a8>, line 15)",
     "output_type": "error",
     "traceback": [
      "\u001b[1;36m  File \u001b[1;32m\"<ipython-input-1-d2ed3e0c63a8>\"\u001b[1;36m, line \u001b[1;32m15\u001b[0m\n\u001b[1;33m    def todayIs()\u001b[0m\n\u001b[1;37m                 ^\u001b[0m\n\u001b[1;31mSyntaxError\u001b[0m\u001b[1;31m:\u001b[0m invalid syntax\n"
     ]
    }
   ],
   "source": [
    "# the date/time functions\n",
    "def greeting():\n",
    "    hour = datetime.datetime.now().hour\n",
    "    if hour>= 0 and hour<12:\n",
    "        response(\"Hello, good morning\")\n",
    "        print(\"Hello, good morning\")\n",
    "    elif hour>=12 and hour<18:\n",
    "        response(\"Hello, good afternoon\")\n",
    "        print(\"Hello, good afternoon\")\n",
    "    else:\n",
    "        response('Hello, good evening')\n",
    "        print(\"Hello, good evening\")\n",
    "    response(\"How may I help you?\")\n",
    "    \n",
    "def todayIs():\n",
    "    day = str(datetime.datetime.now().day)\n",
    "    month = str(datetime.datetime.now()month)\n",
    "    year = str(datettime.datetime now().year)\n",
    "    response(\"The current date is \" + day + \" \"+ month+ \" \" + year)"
   ]
  },
  {
   "cell_type": "code",
   "execution_count": null,
   "metadata": {},
   "outputs": [],
   "source": [
    "# for index, name in enumerate(sr.Microphone.list_microphone_names()):\n",
    "#     print(\"Microphone with name \\\"{1}\\\" found for `Microphone(device_index={0})`\".format(\n",
    "#         index, name))\n"
   ]
  },
  {
   "cell_type": "code",
   "execution_count": null,
   "metadata": {},
   "outputs": [],
   "source": [
    "#wikipedia search function\n",
    "def wikiSearch():\n",
    "    response(\"Looking in wikipedia...\")\n",
    "    statement = statement.replace('wikipedia', '')\n",
    "    results = wikipedia.summary(statement, sentences = 5)\n",
    "    response(results)\n",
    "    print(results)"
   ]
  },
  {
   "cell_type": "code",
   "execution_count": null,
   "metadata": {},
   "outputs": [],
   "source": [
    "# import geopy\n",
    "# from geopy.geocoders import Nominatim"
   ]
  },
  {
   "cell_type": "code",
   "execution_count": null,
   "metadata": {},
   "outputs": [],
   "source": [
    "#weather function\n",
    "def theWeather():\n",
    "    response(\"What is the city name\")\n",
    "    city = audioCommand()\n",
    "    weather = requests.get(f\"api.openweathermap.org/data/2.5/weather?q={city}&appid=1d9da2cb4037d2182174741abc6d4d1a\").json()\n",
    "     "
   ]
  },
  {
   "cell_type": "code",
   "execution_count": null,
   "metadata": {},
   "outputs": [],
   "source": [
    "def theQuestions():\n",
    "    question = audioCommand()\n",
    "    appId = \"8PG7HR-GU3YWEK52K\"\n",
    "    client = wolframalpha.Client(appId)\n",
    "    res = client.query(question)\n",
    "    answer = next(res.results).text\n",
    "    response(answer)\n",
    "    print(answer)"
   ]
  },
  {
   "cell_type": "code",
   "execution_count": null,
   "metadata": {},
   "outputs": [],
   "source": [
    "audioCommand()\n",
    "wakeWord()\n",
    "greetings()\n",
    "while True:\n",
    "    statement = audioCommand().lower()\n",
    "    if \"time \"in statement:\n",
    "        strTime=datetime.datetime.now().strftime(\"%H:%M:%S\") \n",
    "        response(f\"The time is {strTime}\")\n",
    "    elif \"date\" in statement:\n",
    "        todayIs()\n",
    "    elif \"weather\" in statement:\n",
    "        theWeather()\n",
    "    elif \"what is\" in statement or \"who is\" in statement:\n",
    "        theQuestions()\n",
    "    elif \"wikipedia\" in statement:\n",
    "        wikiSearch()\n",
    "        "
   ]
  },
  {
   "cell_type": "code",
   "execution_count": null,
   "metadata": {},
   "outputs": [],
   "source": []
  }
 ],
 "metadata": {
  "kernelspec": {
   "display_name": "Python 3",
   "language": "python",
   "name": "python3"
  },
  "language_info": {
   "codemirror_mode": {
    "name": "ipython",
    "version": 3
   },
   "file_extension": ".py",
   "mimetype": "text/x-python",
   "name": "python",
   "nbconvert_exporter": "python",
   "pygments_lexer": "ipython3",
   "version": "3.8.5"
  }
 },
 "nbformat": 4,
 "nbformat_minor": 4
}
